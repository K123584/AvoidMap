{
  "cells": [
    {
      "cell_type": "code",
      "execution_count": null,
      "metadata": {
        "id": "uWod7GF_ckPh"
      },
      "outputs": [],
      "source": [
        "##### モジュールのインポート\n",
        "from time import sleep\n",
        "from datetime import datetime, timedelta\n",
        "import requests\n",
        "from bs4 import BeautifulSoup\n",
        "import pandas as pd\n",
        "import numpy as np\n",
        "\n",
        "from selenium import webdriver\n",
        "from selenium.webdriver.chrome.options import Options\n",
        "from selenium.webdriver.support.select import Select\n",
        "from selenium.webdriver.common.by import By\n",
        "from selenium.webdriver.common.keys import Keys\n",
        "from selenium.webdriver.common.alert import Alert\n",
        "from selenium.webdriver.support.ui import WebDriverWait\n",
        "from selenium.webdriver.support import expected_conditions as EC\n",
        "from selenium.common.exceptions import TimeoutException\n",
        "from urllib.parse import urljoin\n",
        "\n",
        "import pdb"
      ]
    },
    {
      "cell_type": "code",
      "execution_count": null,
      "metadata": {
        "id": "Afe833pYckPm"
      },
      "outputs": [],
      "source": [
        "\n",
        "session = requests.session()\n"
      ]
    },
    {
      "cell_type": "code",
      "execution_count": null,
      "metadata": {
        "id": "LJezKmDsckPs"
      },
      "outputs": [],
      "source": [
        "pd.set_option('display.max_columns', None)"
      ]
    },
    {
      "cell_type": "code",
      "execution_count": null,
      "metadata": {
        "id": "PBgXvEJ0ckPt"
      },
      "outputs": [],
      "source": [
        "#WebDriverのオプション設定\n",
        "\n",
        "options = Options()\n",
        "options.add_argument('--disable-gpu');\n",
        "options.add_argument('\"--disable-extensions://\"');\n",
        "options.add_argument('--proxy-server=\"direct://\"');\n",
        "options.add_argument('--proxy-bypass-list=*');\n",
        "options.add_argument('--start-maximized');\n"
      ]
    },
    {
      "cell_type": "code",
      "execution_count": null,
      "metadata": {
        "id": "54c8Aw0XckPw",
        "outputId": "445e1866-32e0-4f69-aadf-5855eb1e2a3f"
      },
      "outputs": [
        {
          "name": "stderr",
          "output_type": "stream",
          "text": [
            "<ipython-input-5-969330552b7e>:4: DeprecationWarning: use options instead of chrome_options\n",
            "  driver = webdriver.Chrome(executable_path=DRIVER_PATH, chrome_options=options)\n"
          ]
        }
      ],
      "source": [
        "#WebDriver(ブラウザ)の起動\n",
        "DRIVER_PATH = '/Users\\UserName\\Desktop\\Selenium\\chromedriver'\n",
        "\n",
        "driver = webdriver.Chrome(executable_path=DRIVER_PATH, chrome_options=options)"
      ]
    },
    {
      "cell_type": "code",
      "execution_count": null,
      "metadata": {
        "id": "S5Y_RzmBckPz"
      },
      "outputs": [],
      "source": [
        "# 要素が見つからないときの暗黙的な待機処理\n",
        "driver.implicitly_wait(10)"
      ]
    },
    {
      "cell_type": "code",
      "execution_count": null,
      "metadata": {
        "id": "FWF97zkRckP0",
        "outputId": "e1e2a6c4-f87d-4506-d05d-2808a902065c"
      },
      "outputs": [
        {
          "name": "stdout",
          "output_type": "stream",
          "text": [
            "https://www.eventernote.com/login\n"
          ]
        }
      ],
      "source": [
        "sleep(3)\n",
        "url = 'https://www.eventernote.com/login'\n",
        "driver.get(url)\n",
        "\n",
        "print(driver.current_url)"
      ]
    },
    {
      "cell_type": "code",
      "execution_count": null,
      "metadata": {
        "id": "yZMS9PkJckP1"
      },
      "outputs": [],
      "source": [
        "# [email or アカウント名] を入力するフォームであるnameタグ(email)を取得し、elem_usernameに代入する\n",
        "elem_username = driver.find_element_by_name(\"email\")"
      ]
    },
    {
      "cell_type": "markdown",
      "metadata": {
        "id": "cSSYv32PckP2"
      },
      "source": [
        "参考：　https://www.seleniumqref.com/api/python/element_infoget/Python_get_attribute.html"
      ]
    },
    {
      "cell_type": "code",
      "execution_count": null,
      "metadata": {
        "id": "e_e4nWj9ckP4",
        "outputId": "52b7fbd7-4a8a-4cfe-8d47-413a9d406d31"
      },
      "outputs": [
        {
          "data": {
            "text/plain": [
              "<selenium.webdriver.remote.webelement.WebElement (session=\"c6b51c6dee1e277d543d8492e9ff0351\", element=\"f9b70558-c60a-43b0-aaa0-4b806f5db80b\")>"
            ]
          },
          "execution_count": 9,
          "metadata": {},
          "output_type": "execute_result"
        }
      ],
      "source": [
        "#インスタンスの確認\n",
        "elem_username"
      ]
    },
    {
      "cell_type": "code",
      "execution_count": null,
      "metadata": {
        "id": "6uzKV73DckP5"
      },
      "outputs": [],
      "source": [
        "#サイトのアカウント名入力フォームにメールアドレスを打ち込む処理\n",
        "elem_username.send_keys('yourmail')"
      ]
    },
    {
      "cell_type": "code",
      "execution_count": null,
      "metadata": {
        "id": "QolWYjM6ckP6"
      },
      "outputs": [],
      "source": [
        "# passwordを入力するフォームであるnameタグ(password)を取得し、elem_passwordに代入する\n",
        "elem_password = driver.find_element_by_name('password')"
      ]
    },
    {
      "cell_type": "code",
      "execution_count": null,
      "metadata": {
        "id": "rgpzPjodckP6"
      },
      "outputs": [],
      "source": [
        "#サイトのパスワード入力フォームにパスワードを打ち込む処理\n",
        "elem_password.send_keys('your_password')"
      ]
    },
    {
      "cell_type": "code",
      "execution_count": null,
      "metadata": {
        "id": "3HOMwFeackP8"
      },
      "outputs": [],
      "source": [
        "# 「ログインする」と書いてあるボタンをクリックする準備のため、　class名(btn btn-primary) を取得し、elem_login_btnに代入\n",
        "\n",
        "elem_login_btn = driver.find_element_by_css_selector('input.btn.btn-primary')"
      ]
    },
    {
      "cell_type": "markdown",
      "metadata": {
        "id": "sYHQ7zYOckP8"
      },
      "source": [
        "複数クラス名があるときの取得方法は下記参考\n",
        "\n",
        "参考: https://note.com/scrayper_1/n/ncc2abf930fd7"
      ]
    },
    {
      "cell_type": "code",
      "execution_count": null,
      "metadata": {
        "id": "zwQLkNBjckQA"
      },
      "outputs": [],
      "source": [
        "# click()メソッドを使用し、「ログインする」と書いてあるボタンをクリック\n",
        "sleep(3)\n",
        "elem_login_btn.click()"
      ]
    },
    {
      "cell_type": "code",
      "execution_count": null,
      "metadata": {
        "id": "eIhkrvN3ckQB"
      },
      "outputs": [],
      "source": [
        "# イベント情報のxpath    /html/body/div[1]/div/div/div[3]/ul/li[2]/a\n",
        "#ログインした後の画面の上部にあるイベント情報をクリックする処理\n",
        "sleep(3)\n",
        "driver.find_element_by_xpath(\"/html/body/div[1]/div/div/div[3]/ul/li[2]/a\").click()\n"
      ]
    },
    {
      "cell_type": "markdown",
      "metadata": {
        "id": "tiT8OznzckQB"
      },
      "source": [
        "xpathを使いリストなど複数あるものから選択する方法は下記参考\n",
        "\n",
        "https://qiita.com/yutaiii/items/0be6671fbaea842d9a38"
      ]
    },
    {
      "cell_type": "code",
      "execution_count": null,
      "metadata": {
        "id": "Yvv9FueuckQB"
      },
      "outputs": [],
      "source": [
        "#広告を閉じる処理\n",
        "#<link rel=\"prefetch\" href=\"https://www.eventernote.com/events/\">\n",
        "sleep(3)\n",
        "driver.get(\"https://www.eventernote.com/events/\")\n",
        "#<div id=\"ad_position_box\">"
      ]
    },
    {
      "cell_type": "code",
      "execution_count": null,
      "metadata": {
        "id": "V1WQrRX8ckQC",
        "outputId": "023f78eb-0af1-4cc3-bb1f-dda81256b13b"
      },
      "outputs": [
        {
          "name": "stdout",
          "output_type": "stream",
          "text": [
            "--Call--\n",
            "> \u001b[1;32mc:\\programdata\\anaconda3\\lib\\site-packages\\ipython\\core\\displayhook.py\u001b[0m(252)\u001b[0;36m__call__\u001b[1;34m()\u001b[0m\n",
            "\u001b[1;32m    250 \u001b[1;33m        \u001b[0msys\u001b[0m\u001b[1;33m.\u001b[0m\u001b[0mstdout\u001b[0m\u001b[1;33m.\u001b[0m\u001b[0mflush\u001b[0m\u001b[1;33m(\u001b[0m\u001b[1;33m)\u001b[0m\u001b[1;33m\u001b[0m\u001b[1;33m\u001b[0m\u001b[0m\n",
            "\u001b[0m\u001b[1;32m    251 \u001b[1;33m\u001b[1;33m\u001b[0m\u001b[0m\n",
            "\u001b[0m\u001b[1;32m--> 252 \u001b[1;33m    \u001b[1;32mdef\u001b[0m \u001b[0m__call__\u001b[0m\u001b[1;33m(\u001b[0m\u001b[0mself\u001b[0m\u001b[1;33m,\u001b[0m \u001b[0mresult\u001b[0m\u001b[1;33m=\u001b[0m\u001b[1;32mNone\u001b[0m\u001b[1;33m)\u001b[0m\u001b[1;33m:\u001b[0m\u001b[1;33m\u001b[0m\u001b[1;33m\u001b[0m\u001b[0m\n",
            "\u001b[0m\u001b[1;32m    253 \u001b[1;33m        \"\"\"Printing with history cache management.\n",
            "\u001b[0m\u001b[1;32m    254 \u001b[1;33m\u001b[1;33m\u001b[0m\u001b[0m\n",
            "\u001b[0m\n",
            "ipdb> s\n",
            "> \u001b[1;32mc:\\programdata\\anaconda3\\lib\\site-packages\\ipython\\core\\displayhook.py\u001b[0m(258)\u001b[0;36m__call__\u001b[1;34m()\u001b[0m\n",
            "\u001b[1;32m    256 \u001b[1;33m        \u001b[0mactivated\u001b[0m \u001b[0mby\u001b[0m \u001b[0msetting\u001b[0m \u001b[0mthe\u001b[0m \u001b[0mvariable\u001b[0m \u001b[0msys\u001b[0m\u001b[1;33m.\u001b[0m\u001b[0mdisplayhook\u001b[0m \u001b[0mto\u001b[0m \u001b[0mit\u001b[0m\u001b[1;33m.\u001b[0m\u001b[1;33m\u001b[0m\u001b[1;33m\u001b[0m\u001b[0m\n",
            "\u001b[0m\u001b[1;32m    257 \u001b[1;33m        \"\"\"\n",
            "\u001b[0m\u001b[1;32m--> 258 \u001b[1;33m        \u001b[0mself\u001b[0m\u001b[1;33m.\u001b[0m\u001b[0mcheck_for_underscore\u001b[0m\u001b[1;33m(\u001b[0m\u001b[1;33m)\u001b[0m\u001b[1;33m\u001b[0m\u001b[1;33m\u001b[0m\u001b[0m\n",
            "\u001b[0m\u001b[1;32m    259 \u001b[1;33m        \u001b[1;32mif\u001b[0m \u001b[0mresult\u001b[0m \u001b[1;32mis\u001b[0m \u001b[1;32mnot\u001b[0m \u001b[1;32mNone\u001b[0m \u001b[1;32mand\u001b[0m \u001b[1;32mnot\u001b[0m \u001b[0mself\u001b[0m\u001b[1;33m.\u001b[0m\u001b[0mquiet\u001b[0m\u001b[1;33m(\u001b[0m\u001b[1;33m)\u001b[0m\u001b[1;33m:\u001b[0m\u001b[1;33m\u001b[0m\u001b[1;33m\u001b[0m\u001b[0m\n",
            "\u001b[0m\u001b[1;32m    260 \u001b[1;33m            \u001b[0mself\u001b[0m\u001b[1;33m.\u001b[0m\u001b[0mstart_displayhook\u001b[0m\u001b[1;33m(\u001b[0m\u001b[1;33m)\u001b[0m\u001b[1;33m\u001b[0m\u001b[1;33m\u001b[0m\u001b[0m\n",
            "\u001b[0m\n",
            "ipdb> c\n"
          ]
        }
      ],
      "source": [
        "pdb.set_trace()"
      ]
    },
    {
      "cell_type": "code",
      "execution_count": null,
      "metadata": {
        "id": "AQm_LRhsckQN",
        "outputId": "41c777f2-a1b1-45ec-b85f-8e11581d7bb7"
      },
      "outputs": [
        {
          "name": "stdout",
          "output_type": "stream",
          "text": [
            "['Zepp Nagoya', '開場 18:00 開演 19:00 終演 21:00', 'なんばHatch', '開場 18:00 開演 19:00 終演 21:00', 'シアタークリエ', '開場 - 開演 13:00 終演 15:30', 'シアタークリエ', '開場 - 開演 18:00 終演 20:30', '新潟テルサ', 'アトリエファンファーレ高円寺', '開場 - 開演 19:00 終演 21:00', '新宿ロフトプラスワン(LOFT/PLUS ONE)', '開場 17:30 開演 18:00 終演 21:00', 'Hawaii Convention Center', '開場 - 開演 14:00 終演 15:00', 'Hawaii Convention Center', '開場 - 開演 15:15 終演 16:15', 'Hawaii Convention Center', '開場 - 開演 16:45 終演 17:45', '長良川国際会議場', '開場 18:00 開演 19:00 終演 21:00', '名古屋ell.FITS ALL', '開場 18:00 開演 18:30 終演 20:30', 'Lion Limited Sakae', '開場 18:15 開演 18:35 終演 20:35', '丸の内ピカデリー1', '開場 19:30 開演 20:00 終演 22:00', 'ZOZOマリンスタジアム(千葉マリンスタジアム)', '開場 12:00 開演 12:30 終演 20:45', 'harevutai', '開場 18:15 開演 19:00 終演 21:00', 'Hawaii Convention Center', '開場 - 開演 15:30 終演 16:30', 'Zepp DiverCity (TOKYO)', '開場 17:00 開演 18:00 終演 20:00', 'タワーレコード渋谷店5Fイベントスペース', '開場 - 開演 19:00 終演 21:00', 'サンシャインサカエ B1F グランドキャニオン広場', '開場 19:00 開演 19:30 終演 21:35', '音部屋スクエア', '開場 18:30 開演 19:00 終演 20:30', 'タワーレコード横浜ビブレ店', '開場 - 開演 19:00 終演 21:00', '上野水上音楽堂(上野恩賜公園野外ステージ)', '開場 16:25 開演 16:35 終演 20:50', \"HEAVEN'S ROCKさいたま新都心VJ-3\", '開場 17:30 開演 18:00 終演 21:00', '京都ARCDEUX', '開場 18:30 開演 19:00 終演 22:00', 'タワーレコード新宿店', '開場 18:30 開演 19:00 終演 22:00', '池下CLUB UPSET', '開場 18:30 開演 19:00 終演 21:00', '青山RizM', '開場 18:30 開演 19:00 終演 21:00', '梅田amHALL(アムホール)', '開場 18:00 開演 19:00 終演 22:00', '赤羽ReNY alpha(ReNY α)', '開場 18:15 開演 18:45 終演 20:30', 'ROCK CAFE LOFT is your room', '開場 19:00 開演 19:30 終演 21:30', 'COTTON CLUB(コットンクラブ) ', '開場 17:00 開演 18:00 終演 19:00', '柏PALOOZA(パルーザ)', '開場 17:15 開演 18:00 終演 20:00', '愛知県芸術劇場 大ホール', '開場 18:00 開演 19:00 終演 21:00', 'COTTON CLUB(コットンクラブ) ', '開場 19:45 開演 20:30 終演 22:00', '日生劇場', '開場 - 開演 13:00 終演 16:00', 'HMV&BOOKS SHIBUYA 5Fイベントスペース', '開場 - 開演 19:00 終演 21:00', 'タワーレコード渋谷店B1F CUTUP STUDIO (旧 STAGE ONE)', '開場 - 開演 19:00 終演 21:30', '渋谷LOFT HEAVEN (旧 Last Waltz in LOFT)', '開場 18:30 開演 19:00 終演 21:00', 'あべのハルカス 近鉄アート館', '開場 18:00 開演 18:30 終演 21:00', 'Galaxy box(Cafeぐっどタイム)', '開場 19:00 開演 19:15 終演 22:00', '阿佐ヶ谷ロフトA(Asagaya/Loft A)', '開場 18:30 開演 19:00 終演 21:00', 'AKIBA COLORS', '開場 18:20 開演 18:35 終演 21:40', '代アニLIVEステーション', '開場 18:00 開演 18:20 終演 20:00', '赤羽ReNY alpha(ReNY α)', '開場 18:15 開演 18:45 終演 20:30', '幕張メッセ 国際展示場ホール', '開場 15:00 開演 17:00 終演 21:00', 'さいたまスーパーアリーナ', '開場 15:30 開演 17:00 終演 21:00', 'J:COMホール八王子(八王子市民会館)', '開場 14:00 開演 15:00 終演 16:30', 'J:COMホール八王子(八王子市民会館)', '開場 17:30 開演 18:30 終演 20:00', '科学技術館サイエンスホール', '開場 12:30 開演 13:00 終演 14:30', '千葉市若葉文化ホール', '開場 17:15 開演 18:00 終演 20:30', 'アトリエファンファーレ高円寺', '開場 - 開演 12:00 終演 14:00', '科学技術館サイエンスホール', '開場 16:00 開演 16:30 終演 18:00', '日比谷野外大音楽堂', '開場 17:00 開演 18:00 終演 20:20', 'なかのZERO 大ホール', '開場 13:30 開演 14:30 終演 16:00', '江戸川区総合文化センター', '開場 14:30 開演 15:00 終演 17:00', 'アトリエファンファーレ高円寺', '開場 - 開演 15:30 終演 17:30', 'なかのZERO 大ホール', '開場 17:30 開演 18:30 終演 20:00', '文化放送メディアプラスホール', '開場 15:00 開演 15:30 終演 17:00', '江戸川区総合文化センター', '開場 18:00 開演 18:30 終演 20:30', 'アトリエファンファーレ高円寺', '開場 - 開演 19:00 終演 21:00', '白金高輪SELENE b2', '開場 09:30 開演 10:00 終演 20:00', '飛行船シアター', '開場 12:30 開演 13:00 終演 16:00', 'シアタークリエ', '開場 - 開演 18:00 終演 20:30', 'AKIHABARAゲーマーズ本店', '開場 11:30 開演 12:00 終演 13:00', 'AKIHABARAゲーマーズ本店', '開場 13:15 開演 13:45 終演 14:45', 'シアタークリエ', '開場 - 開演 13:00 終演 15:30', '有楽町朝日ホール', '開場 14:00 開演 14:30 終演 16:00', 'AKIHABARAゲーマーズ本店', '開場 15:00 開演 15:30 終演 16:30', '仙台PIT ', '開場 17:00 開演 18:00 終演 20:00', '福岡PayPayドーム(福岡ドーム)', '開場 15:00 開演 17:00 終演 20:00', 'Spotify O-nest(TSUTAYA O-nest)', '開場 11:30 開演 12:00 終演 14:30', '有楽町朝日ホール', '開場 18:00 開演 18:30 終演 20:00', '光が丘IMAホール', '開場 13:50 開演 14:30 終演 16:30', 'ユナイテッド・シネマ豊洲', '開場 14:30 開演 15:15 終演 18:00', '名古屋ダイアモンドホール(DIAMOND HALL)', '開場 11:30 開演 12:00 終演 13:10', 'あるあるCity 7Fホール(旧 ホログラムシアター)', '開場 11:30 開演 12:00 終演 14:00', 'あるあるCity 7Fホール(旧 ホログラムシアター)', '開場 15:30 開演 16:00 終演 18:00', 'LOFT9 Shibuya(ロフトナイン渋谷)', '開場 12:00 開演 13:00 終演 15:00', '高円寺Studio K(スタジオK)', '開場 18:00 開演 18:30 終演 20:00', '光が丘IMAホール', '開場 17:20 開演 18:00 終演 20:00', '山野ホール', '開場 11:00 開演 11:30 終演 20:25', '新宿ロフトプラスワン(LOFT/PLUS ONE)', '開場 18:00 開演 18:30 終演 22:00', 'NAGOYA ReNY limited', '開場 17:30 開演 17:45 終演 21:30', 'SHIBUYA TSUTAYA', '開場 - 開演 13:00 終演 15:00', '新宿BLAZE', '開場 17:00 開演 17:30 終演 21:00', '東京ドーム', '開場 15:00 開演 18:00 終演 21:00', 'Hawaii Convention Center', '開場 - 開演 19:30 終演 20:30', 'Hawaii Convention Center', '開場 - 開演 16:00 終演 17:00', '新宿アルタKeyStudio', '開場 11:15 開演 11:40 終演 20:00', 'Jヴィレッジ', '渋谷GUILTY', '開場 17:30 開演 18:00 終演 21:00', '代官山UNIT', '開場 18:00 開演 18:30 終演 22:00', '名古屋ボトムライン(THE BOTTOM LINE)', '開場 18:30 開演 18:50 終演 21:00', '!_東京都内某所', '開場 11:00 開演 11:30 終演 12:30', 'NAGOYA ReNY limited', '開場 10:00 開演 10:30 終演 12:00', 'harevutai', '開場 14:10 開演 14:30 終演 16:00', 'カフェ アクイーユ 恵比寿', '開場 - 開演 17:30 終演 19:00', '名古屋ボトムライン(THE BOTTOM LINE)', '開場 11:00 開演 11:20 終演 17:30', 'Hawaii Convention Center', '開場 - 開演 17:30 終演 18:30', 'Hawaii Convention Center', '開場 - 開演 22:15 終演 00:00', 'NAGOYA ReNY limited', '開場 12:30 開演 12:50 終演 17:00', '神戸ワールド記念ホール', '開場 16:30 開演 18:00 終演 21:00', '愛媛県県民文化会館 メインホール', '開場 17:00 開演 18:00 終演 20:00', 'MOVIX京都', '開場 - 開演 09:00 終演 11:35', '下北沢ERA', '開場 10:45 開演 11:15 終演 15:00', 'SHIBUYA RING', '開場 18:30 開演 19:00 終演 21:00', 'Space emo 池袋', '開場 18:00 開演 18:30 終演 21:00', '名古屋市公会堂', '開場 17:00 開演 18:00 終演 20:00', '今池CLUB 3Star', '開場 10:30 開演 11:00 終演 14:00', 'GRIT at Shibuya(渋谷GRIT)', '開場 17:00 開演 17:30 終演 21:00', '秋葉原P.A.R.M.S(パセラリゾーツAKIBAマルチエンターテインメント7F)', '開場 12:30 開演 13:00 終演 15:00', '大須Dt.BLD', '開場 17:00 開演 17:15 終演 23:00', 'カルッツかわさき(川崎市スポーツ・文化総合センター)', '開場 14:30 開演 15:00 終演 17:00', 'カルッツかわさき(川崎市スポーツ・文化総合センター)', '開場 18:00 開演 18:30 終演 20:00', 'CLUB ROSSO', '開場 14:10 開演 14:30 終演 18:15', '北陸電力会館 本多の森ホール(旧石川厚生年金会館)', '開場 12:45 開演 13:30 終演 17:30', '北陸電力会館 本多の森ホール(旧石川厚生年金会館)', '開場 15:45 開演 16:30 終演 18:30', '北陸電力会館 本多の森ホール(旧石川厚生年金会館)', '開場 09:45 開演 10:30 終演 12:30', 'サンシャインサカエ B1F グランドキャニオン広場', '開場 10:15 開演 10:30 終演 10:50', '滋賀県立文化産業交流会館', '開場 17:00 開演 18:00 終演 20:00', \"MAG's PARK(MAGNET by SHIBUYA109屋上)\", '開場 - 開演 16:00 終演 18:00', 'ミッドランドスクエアシネマ', '開場 - 開演 13:10 終演 15:40', 'ミッドランドスクエアシネマ', '開場 - 開演 16:20 終演 18:50', 'MOVIX京都', '開場 - 開演 12:15 終演 14:45', 'タワーレコード渋谷店B1F CUTUP STUDIO (旧 STAGE ONE)', '開場 - 開演 20:00 終演 22:00', '栃木県総合文化センター メインホール', '開場 13:30 開演 14:30 終演 16:30', '柏PALOOZA(パルーザ)', '開場 16:45 開演 17:30 終演 19:30', '多摩六都科学館 プラネタリウム', '開場 17:35 開演 17:50 終演 18:50', \"MAG's PARK(MAGNET by SHIBUYA109屋上)\", '開場 - 開演 18:30 終演 20:00', '新宿Crawdaddy Club(クロウダディクラブ)', '開場 18:30 開演 19:00 終演 21:00', 'タワーレコード渋谷店B1F CUTUP STUDIO (旧 STAGE ONE)', '開場 - 開演 17:00 終演 19:00', '新宿ReNY', '開場 - 開演 17:00 終演 19:00', '!_国内外各所 (ライブビューイング等)', '開場 09:45 開演 10:00 終演 17:30', \"川崎CLUB CITTA'(クラブチッタ)\", '開場 16:00 開演 17:00 終演 21:00', '日本モンキーセンター', '開場 12:00 開演 13:00 終演 15:00', 'harevutai', '開場 18:30 開演 18:50 終演 21:00', '今池CLUB 3Star', '開場 16:50 開演 17:20 終演 20:00', '下北沢CLUB251', '開場 - 開演 12:00 終演 16:00', '代官山UNIT', '開場 12:30 開演 13:00 終演 15:30', '心斎橋BIGSTEP大階段', '開場 16:40 開演 17:00 終演 19:00', 'Hall Mixa', '開場 09:00 開演 09:30 終演 10:00', '新宿Motion', '開場 10:00 開演 10:30 終演 15:00', 'Lion Limited Sakae', '開場 18:20 開演 18:40 終演 20:00', 'HMV横浜ワールドポーターズ', '開場 18:40 開演 19:00 終演 21:00', '名古屋ダイアモンドホール(DIAMOND HALL)', '開場 13:40 開演 14:00 終演 20:20', 'aube shibuya(渋谷aube)', '開場 18:45 開演 19:15 終演 20:00', 'TOHOシネマズ日比谷 スクリーン12 (旧 TOHOシネマズスカラ座)', '開場 12:45 開演 13:00 終演 15:25', 'AKIHABARAゲーマーズ本店', '開場 18:15 開演 18:30 終演 19:30', '渋谷近未来会館', '開場 19:00 開演 19:20 終演 20:00', '川口CAVALLINO(キャバリーノ)', '開場 11:40 開演 12:10 終演 15:00', '伏見ライオンシアター', '開場 18:00 開演 18:20 終演 22:00', 'SHINJUKU WALLY(新宿WALLY)', '開場 18:00 開演 18:30 終演 21:00', '名古屋レジェンドホール(LEGEND HALL)', '開場 11:30 開演 12:00 終演 15:00', 'Spotify O-Crest(TSUTAYA O-Crest)', '開場 - 開演 19:00 終演 19:40', '名古屋レジェンドホール(LEGEND HALL)', '開場 15:30 開演 16:00 終演 19:00', 'Spotify O-Crest(TSUTAYA O-Crest)', '開場 - 開演 21:00 終演 21:40', 'SHINJUKU WALLY(新宿WALLY)', '開場 10:40 開演 11:00 終演 12:00', '新宿ピカデリー', '開場 - 開演 19:00 終演 21:30', '天王洲 銀河劇場', '開場 17:00 開演 18:00 終演 21:00', '吉祥寺SHUFFLE', '開場 12:30 開演 13:00 終演 16:00', 'ZOZOマリンスタジアム(千葉マリンスタジアム)', '開場 11:00 開演 12:00 終演 20:00', 'NHK大阪ホール', '開場 17:00 開演 18:00 終演 20:00', '日生劇場', '開場 - 開演 17:00 終演 20:00', 'ESAKA MUSE(江坂MUSE)', '開場 16:15 開演 17:00 終演 20:00', '仙台Rensa', '開場 16:30 開演 17:00 終演 20:00', 'ハーモニーホール座間(座間市立市民文化会館)', '開場 18:00 開演 19:00 終演 21:00', '多摩六都科学館 プラネタリウム', '開場 19:30 開演 19:45 終演 20:45', '広島グリーンアリーナ(広島県立総合体育館)', '開場 17:00 開演 18:00 終演 21:00', 'ハーモニーホール座間(座間市立市民文化会館)', '開場 14:30 開演 15:30 終演 17:00', '旧SHIBUYA DESEO(旧渋谷DESEO)', '開場 09:45 開演 10:05 終演 13:00', 'TwinBox AKIHABARA', '開場 10:30 開演 11:00 終演 14:00', '栃木県総合文化センター メインホール', '開場 17:00 開演 18:00 終演 20:00', '横浜1000CLUB(サウザンドクラブ)', '開場 10:30 開演 10:45 終演 22:00', 'Lion Limited Sakae', '開場 13:20 開演 13:40 終演 14:20', 'サンシャインサカエ B1F グランドキャニオン広場', '開場 14:45 開演 15:00 終演 15:20', '新宿ReNY', '開場 - 開演 19:00 終演 21:00', '新宿ReNY', '開場 - 開演 15:00 終演 17:00', 'Zepp Sapporo', '開場 17:00 開演 18:00 終演 21:00', 'SPACE KUMAMOTO', '開場 14:20 開演 14:50 終演 19:00', '共済ホール', '開場 13:00 開演 14:00 終演 16:00', '!_香川県内某所', '開場 - 開演 17:30 終演 20:30', 'あべのハルカス 近鉄アート館', '開場 12:30 開演 13:00 終演 15:30', 'あべのハルカス 近鉄アート館', '開場 17:00 開演 17:30 終演 20:00', 'キャナルシティ博多 B1Fサンプラザステージ', '開場 - 開演 18:00 終演 19:00', '=Heaven（イコールヘブン）', '開場 12:30 開演 13:00 終演 15:00', 'SHINJUKU WALLY(新宿WALLY)', '開場 14:40 開演 15:00 終演 16:00', '新宿ZEAL THEATER(ジールシアター新宿)', '開場 10:50 開演 11:10 終演 12:00', 'LOFT9 Shibuya(ロフトナイン渋谷)', '開場 18:30 開演 19:00 終演 22:00', 'Lion Limited Sakae', '開場 08:50 開演 09:10 終演 10:15', '札幌市円山動物園', '開場 13:30 開演 14:00 終演 16:00', '渋谷LOFT HEAVEN (旧 Last Waltz in LOFT)', '開場 11:30 開演 12:00 終演 14:00', '大阪日本橋 animate O.N.SQUARE HALL', '開場 16:45 開演 17:00 終演 18:00', '大阪日本橋 animate O.N.SQUARE HALL', '開場 15:45 開演 16:00 終演 17:00', '大阪日本橋 animate O.N.SQUARE HALL', '開場 11:45 開演 12:00 終演 13:00', '大阪日本橋 animate O.N.SQUARE HALL', '開場 14:45 開演 15:00 終演 16:00', '大阪日本橋 animate O.N.SQUARE HALL', '開場 10:45 開演 11:00 終演 12:00', '大阪日本橋 animate O.N.SQUARE HALL', '開場 13:45 開演 14:00 終演 15:00', 'OSAKA MUSE(大阪MUSE)', '開場 16:00 開演 16:30 終演 20:00', '高知県立県民文化ホール オレンジホール', '開場 17:00 開演 18:00 終演 19:30', '梅田amHALL(アムホール)', '開場 19:00 開演 19:30 終演 22:00', '!_東京都内某所', '開場 13:00 開演 13:30 終演 14:30', '阿佐ヶ谷ロフトA(Asagaya/Loft A)', '開場 18:00 開演 19:00 終演 21:00', '渋谷club asia', '開場 10:15 開演 10:40 終演 21:40', '渋谷近未来会館', '開場 11:30 開演 11:50 終演 13:00', '開場 10:30 開演 10:50 終演 13:00', 'アメリカ村DROP(心斎橋DROP)', '開場 18:30 開演 19:00 終演 22:00', 'アメリカ村DROP(心斎橋DROP)', '開場 15:00 開演 15:30 終演 17:45', 'Spotify O-Crest(TSUTAYA O-Crest)', '開場 - 開演 20:00 終演 20:40', 'HARAJUKU RENON(原宿RENON)', '開場 19:00 開演 19:20 終演 20:00', '渋谷近未来会館', '開場 15:10 開演 15:30 終演 17:00', 'ROCK CAFE LOFT is your room', '開場 13:30 開演 14:00 終演 15:20', 'ROCK CAFE LOFT is your room', '開場 11:00 開演 11:30 終演 12:55', 'HARAJUKU RENON(原宿RENON)', '開場 16:10 開演 16:30 終演 18:00', 'Spotify O-Crest(TSUTAYA O-Crest)', '開場 16:45 開演 17:15 終演 18:00', '新宿ZEAL THEATER(ジールシアター新宿)', '開場 18:15 開演 19:20 終演 20:00']\n"
          ]
        }
      ],
      "source": [
        "#1/16\n",
        "import numpy as np\n",
        "import pdb\n",
        "import copy\n",
        "\n",
        "import datetime\n",
        "\n",
        "#今日の日にち\n",
        "today_date = datetime.datetime.now()\n",
        "#wile文の中で日にちを加算していく用の日時  （※ to_datetimeで変換したオブジェクトを再代入させると1970年の年時(UNIX時間)になるので再び　datetime.datetime.now()) で今日の日にちを取得）\n",
        "while_days = datetime.datetime.now()\n",
        "\n",
        "# print(while_days)\n",
        "\n",
        "total_data_list = []\n",
        "\n",
        "while True:\n",
        "    #今日の日付+x日までの日時を自動検索\n",
        "    #　　ｘは　timedelta(days=x)　\n",
        "    if while_days < today_date + datetime.timedelta(days=2):\n",
        "        \n",
        "#       print(while_days)\n",
        "\n",
        "        #年id取得\n",
        "        elem_year = driver.find_element_by_id('year')\n",
        "        select_year = Select(elem_year)\n",
        "        str_year =  str(while_days.year)\n",
        "        #年入力\n",
        "        select_year.select_by_value(str_year)\n",
        "        \n",
        "        #月id取得\n",
        "        elem_month = driver.find_element_by_id('month')\n",
        "        select_month = Select(elem_month)\n",
        "        str_month =  str(while_days.month)\n",
        "        #月入力\n",
        "        select_month.select_by_value(str_month)\n",
        "\n",
        "        #日id取得\n",
        "        elem_day = driver.find_element_by_id('day')\n",
        "        select_day = Select(elem_day)\n",
        "        str_day =  str(while_days.day)\n",
        "        \n",
        "        #日入力\n",
        "        select_day.select_by_value(str_day)\n",
        "\n",
        "        #ボタン要素取得\n",
        "        elem_event_search_btn = driver.find_element_by_css_selector('input.btn.btn-primary')\n",
        "\n",
        "        #ボタンを押す\n",
        "        sleep(3)\n",
        "        elem_event_search_btn.click()\n",
        "        \n",
        "    else:\n",
        "        break\n",
        "        #page_クローリング＿start\n",
        "    \n",
        "    #def forloop():\n",
        "    while True:\n",
        "\n",
        "        #def forloop():\n",
        "        html = '''\n",
        "        <a href=driver.current_url></a>\n",
        "        '''\n",
        "\n",
        "        url = driver.current_url\n",
        "        #print(url)\n",
        "        page = requests.get(url)\n",
        "\n",
        "        soup = BeautifulSoup(page.text,\"html.parser\")\n",
        "\n",
        "\n",
        "        events_all = soup.find_all('div', attrs={'class': 'event'})\n",
        "        events_all\n",
        "    #\n",
        "        #a = total_data_list\n",
        "        #next_page_click = soup.find('li',{'class':'next'}).find('a').get('href')\n",
        "        sleep(3)\n",
        "\n",
        "        for events in events_all:\n",
        "            events_data = [x.text for x in events.select('.place')]\n",
        "            events_data = [s.replace('\\n', '') for s in events_data]\n",
        "            events_data = [s.replace('            会場: ', '') for s in events_data]\n",
        "            events_data = [s.replace('            会場: ', '') for s in events_data]\n",
        "#             events_data = [s.replace('開場', '') for s in events_data]\n",
        "#             events_data = [s.replace('開演 ', '') for s in events_data]\n",
        "#             events_data = [s.replace('終演 ', '') for s in events_data]\n",
        "\n",
        "            #print(events_data)\n",
        "\n",
        "            #total_data_list.append(events_data)\n",
        "\n",
        "            #例  b.append(copy.deepcopy(a))      # IDを変えたリストを返す\n",
        "\n",
        "            total_data_list.extend(copy.deepcopy(events_data))\n",
        "#                 pdb.set_trace()\n",
        "\n",
        "        try:\n",
        "            next_page_click = driver.find_element_by_class_name('next').find_element_by_tag_name(\"a\")\n",
        "            sleep(3)\n",
        "            next_page_click.click()\n",
        "            #pdb.set_trace()\n",
        "            \n",
        "            continue\n",
        "        except:\n",
        "            while_days+= datetime.timedelta(days=1)\n",
        "            break\n",
        "\n",
        "            #data.append(events_data)\n",
        "print(total_data_list)"
      ]
    },
    {
      "cell_type": "code",
      "execution_count": null,
      "metadata": {
        "id": "lJIz0K1LckQO"
      },
      "outputs": [],
      "source": []
    }
  ],
  "metadata": {
    "kernelspec": {
      "display_name": "Environment (conda_anaconda3)",
      "language": "python",
      "name": "conda_anaconda3"
    },
    "language_info": {
      "codemirror_mode": {
        "name": "ipython",
        "version": 3
      },
      "file_extension": ".py",
      "mimetype": "text/x-python",
      "name": "python",
      "nbconvert_exporter": "python",
      "pygments_lexer": "ipython3",
      "version": "3.8.3"
    },
    "colab": {
      "provenance": []
    }
  },
  "nbformat": 4,
  "nbformat_minor": 0
}